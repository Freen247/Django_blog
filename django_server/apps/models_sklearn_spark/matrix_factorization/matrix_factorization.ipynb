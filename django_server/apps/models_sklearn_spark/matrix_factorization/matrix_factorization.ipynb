{
 "metadata": {
  "language_info": {
   "codemirror_mode": {
    "name": "ipython",
    "version": 3
   },
   "file_extension": ".py",
   "mimetype": "text/x-python",
   "name": "python",
   "nbconvert_exporter": "python",
   "pygments_lexer": "ipython3",
   "version": "3.6.7-final"
  },
  "orig_nbformat": 2,
  "kernelspec": {
   "name": "python36764bitenvvenv49ba2bb70c7247c4bbd46fb1f120d26e",
   "display_name": "Python 3.6.7 64-bit ('env': venv)"
  }
 },
 "nbformat": 4,
 "nbformat_minor": 2,
 "cells": [
  {
   "cell_type": "code",
   "execution_count": 4,
   "metadata": {
    "tags": []
   },
   "outputs": [
    {
     "output_type": "execute_result",
     "data": {
      "text/plain": "         UserID  MovieID  Rating  Timestamp\n0             1     1193       5  978300760\n1             1      661       3  978302109\n2             1      914       3  978301968\n3             1     3408       4  978300275\n4             1     2355       5  978824291\n...         ...      ...     ...        ...\n1000204    6040     1091       1  956716541\n1000205    6040     1094       5  956704887\n1000206    6040      562       5  956704746\n1000207    6040     1096       4  956715648\n1000208    6040     1097       4  956715569\n\n[1000209 rows x 4 columns]",
      "text/html": "<div>\n<style scoped>\n    .dataframe tbody tr th:only-of-type {\n        vertical-align: middle;\n    }\n\n    .dataframe tbody tr th {\n        vertical-align: top;\n    }\n\n    .dataframe thead th {\n        text-align: right;\n    }\n</style>\n<table border=\"1\" class=\"dataframe\">\n  <thead>\n    <tr style=\"text-align: right;\">\n      <th></th>\n      <th>UserID</th>\n      <th>MovieID</th>\n      <th>Rating</th>\n      <th>Timestamp</th>\n    </tr>\n  </thead>\n  <tbody>\n    <tr>\n      <th>0</th>\n      <td>1</td>\n      <td>1193</td>\n      <td>5</td>\n      <td>978300760</td>\n    </tr>\n    <tr>\n      <th>1</th>\n      <td>1</td>\n      <td>661</td>\n      <td>3</td>\n      <td>978302109</td>\n    </tr>\n    <tr>\n      <th>2</th>\n      <td>1</td>\n      <td>914</td>\n      <td>3</td>\n      <td>978301968</td>\n    </tr>\n    <tr>\n      <th>3</th>\n      <td>1</td>\n      <td>3408</td>\n      <td>4</td>\n      <td>978300275</td>\n    </tr>\n    <tr>\n      <th>4</th>\n      <td>1</td>\n      <td>2355</td>\n      <td>5</td>\n      <td>978824291</td>\n    </tr>\n    <tr>\n      <th>...</th>\n      <td>...</td>\n      <td>...</td>\n      <td>...</td>\n      <td>...</td>\n    </tr>\n    <tr>\n      <th>1000204</th>\n      <td>6040</td>\n      <td>1091</td>\n      <td>1</td>\n      <td>956716541</td>\n    </tr>\n    <tr>\n      <th>1000205</th>\n      <td>6040</td>\n      <td>1094</td>\n      <td>5</td>\n      <td>956704887</td>\n    </tr>\n    <tr>\n      <th>1000206</th>\n      <td>6040</td>\n      <td>562</td>\n      <td>5</td>\n      <td>956704746</td>\n    </tr>\n    <tr>\n      <th>1000207</th>\n      <td>6040</td>\n      <td>1096</td>\n      <td>4</td>\n      <td>956715648</td>\n    </tr>\n    <tr>\n      <th>1000208</th>\n      <td>6040</td>\n      <td>1097</td>\n      <td>4</td>\n      <td>956715569</td>\n    </tr>\n  </tbody>\n</table>\n<p>1000209 rows × 4 columns</p>\n</div>"
     },
     "metadata": {},
     "execution_count": 4
    }
   ],
   "source": [
    "from math import sqrt\n",
    "from sklearn.metrics import mean_squared_error\n",
    "from scipy.sparse.linalg import svds\n",
    "from sklearn.model_selection import cross_validate, train_test_split\n",
    "import sys\n",
    "import os\n",
    "import numpy as np\n",
    "import pandas as pd\n",
    "apps_floder = os.path.dirname(os.path.abspath('.'))\n",
    "ratings_file = os.path.join(apps_floder, 'data\\\\ml-1m\\\\ratings.csv')\n",
    "ratings_df = pd.read_csv(ratings_file, sep=',', engine='python')\n",
    "ratings_df"
   ]
  },
  {
   "cell_type": "code",
   "execution_count": 5,
   "metadata": {
    "tags": []
   },
   "outputs": [
    {
     "output_type": "stream",
     "name": "stdout",
     "text": "Number of users = 6040 | Number of movies = 3952\n"
    }
   ],
   "source": [
    "n_users = max(ratings_df.UserID.unique())\n",
    "n_movies = max(ratings_df.MovieID.unique())\n",
    "\n",
    "print('Number of users = ' + str(n_users) +\n",
    "      ' | Number of movies = ' + str(n_movies))"
   ]
  },
  {
   "cell_type": "code",
   "execution_count": 6,
   "metadata": {},
   "outputs": [],
   "source": [
    "# 按照1：3的比例分割数据\n",
    "train_data = ratings_df.head(round(len(ratings_df)*0.25))\n",
    "test_data = ratings_df.tail(round(len(ratings_df)*0.75))"
   ]
  },
  {
   "cell_type": "code",
   "execution_count": 7,
   "metadata": {
    "tags": []
   },
   "outputs": [
    {
     "output_type": "stream",
     "name": "stdout",
     "text": "The sparsity level of MovieLens is 0.168\n"
    }
   ],
   "source": [
    "# 计算数据集的稀疏度\n",
    "sparsity = round(ratings_df.size/float(n_users*n_movies), 3)\n",
    "print('The sparsity level of MovieLens is ' + str(sparsity))"
   ]
  },
  {
   "cell_type": "code",
   "execution_count": 8,
   "metadata": {},
   "outputs": [],
   "source": [
    "# 创建uesr-item矩阵，此处需创建训练和测试两个UI矩阵,6040 cols * 3952 rows\n",
    "train_data_matrix = np.zeros((n_users, n_movies))\n",
    "for line in train_data.itertuples():\n",
    "    train_data_matrix[line[1] - 1, line[2] - 1] = line[3]\n",
    "\n",
    "test_data_matrix = np.zeros((n_users, n_movies))\n",
    "for line in test_data.itertuples():\n",
    "    test_data_matrix[line[1] - 1, line[2] - 1] = line[3]"
   ]
  },
  {
   "cell_type": "code",
   "execution_count": 9,
   "metadata": {
    "tags": []
   },
   "outputs": [
    {
     "output_type": "execute_result",
     "data": {
      "text/plain": "((6040, 20), (20,), (20, 3952))"
     },
     "metadata": {},
     "execution_count": 9
    }
   ],
   "source": [
    "u, s, vt = svds(train_data_matrix, k=20)\n",
    "u.shape, s.shape, vt.shape"
   ]
  },
  {
   "cell_type": "code",
   "execution_count": 10,
   "metadata": {},
   "outputs": [],
   "source": [
    "s_diag_matrix = np.diag(s)\n",
    "X_pred = np.dot(np.dot(u, s_diag_matrix), vt)"
   ]
  },
  {
   "cell_type": "code",
   "execution_count": 11,
   "metadata": {
    "tags": []
   },
   "outputs": [
    {
     "output_type": "stream",
     "name": "stdout",
     "text": "User-based CF MSE: 3.7586157404436826\n"
    }
   ],
   "source": [
    "def rmse(prediction, ground_truth):\n",
    "    prediction = prediction[ground_truth.nonzero()].flatten()\n",
    "    ground_truth = ground_truth[ground_truth.nonzero()].flatten()\n",
    "    return sqrt(mean_squared_error(prediction, ground_truth))\n",
    "print('User-based CF MSE: ' + str(rmse(X_pred, test_data_matrix)))"
   ]
  },
  {
   "cell_type": "code",
   "execution_count": 14,
   "metadata": {},
   "outputs": [
    {
     "output_type": "execute_result",
     "data": {
      "text/plain": "          0         1         2         3         4         5         6     \\\n0     2.976352  0.744767 -0.009963 -0.057408  0.022610 -0.195839 -0.138229   \n1     0.931130  0.389267  0.364006  0.052644  0.124922  0.607960  0.141177   \n2     1.247751  0.213155  0.167924  0.011876  0.054110  0.084708 -0.087069   \n3     0.152505 -0.182852 -0.028998  0.047482  0.044121  0.276155 -0.025682   \n4     1.325901  0.024249 -0.243512  0.215841 -0.346452  1.241074 -0.313412   \n...        ...       ...       ...       ...       ...       ...       ...   \n6035  0.000000  0.000000  0.000000  0.000000  0.000000  0.000000  0.000000   \n6036  0.000000  0.000000  0.000000  0.000000  0.000000  0.000000  0.000000   \n6037  0.000000  0.000000  0.000000  0.000000  0.000000  0.000000  0.000000   \n6038  0.000000  0.000000  0.000000  0.000000  0.000000  0.000000  0.000000   \n6039  0.000000  0.000000  0.000000  0.000000  0.000000  0.000000  0.000000   \n\n          7         8         9     ...      3942      3943      3944  \\\n0     0.200984 -0.131726  0.076522  ... -0.031364  0.007606  0.081938   \n1     0.007597  0.250530  1.153990  ... -0.054179 -0.005977 -0.011452   \n2     0.036980  0.039084  0.411934  ... -0.024923 -0.023607  0.026514   \n3    -0.005139 -0.037145  0.263491  ... -0.001420  0.008835 -0.002732   \n4    -0.055865  0.006133  0.320826  ...  0.069419  0.005063 -0.026947   \n...        ...       ...       ...  ...       ...       ...       ...   \n6035  0.000000  0.000000  0.000000  ...  0.000000  0.000000  0.000000   \n6036  0.000000  0.000000  0.000000  ...  0.000000  0.000000  0.000000   \n6037  0.000000  0.000000  0.000000  ...  0.000000  0.000000  0.000000   \n6038  0.000000  0.000000  0.000000  ...  0.000000  0.000000  0.000000   \n6039  0.000000  0.000000  0.000000  ...  0.000000  0.000000  0.000000   \n\n          3945      3946      3947      3948      3949      3950      3951  \n0    -0.043994 -0.166404  0.385526 -0.133773 -0.041047 -0.002533  0.230722  \n1     0.082114 -0.059308  0.091251 -0.210865 -0.108354 -0.021863 -0.228336  \n2     0.009862 -0.022911  0.403922 -0.117882 -0.074477 -0.034485 -0.286855  \n3    -0.025536 -0.063314  0.066459  0.087017  0.033660  0.016800 -0.176528  \n4     0.017156  0.027916  0.014633  0.497768 -0.014404  0.113194  0.120356  \n...        ...       ...       ...       ...       ...       ...       ...  \n6035  0.000000  0.000000  0.000000  0.000000  0.000000  0.000000  0.000000  \n6036  0.000000  0.000000  0.000000  0.000000  0.000000  0.000000  0.000000  \n6037  0.000000  0.000000  0.000000  0.000000  0.000000  0.000000  0.000000  \n6038  0.000000  0.000000  0.000000  0.000000  0.000000  0.000000  0.000000  \n6039  0.000000  0.000000  0.000000  0.000000  0.000000  0.000000  0.000000  \n\n[6040 rows x 3952 columns]",
      "text/html": "<div>\n<style scoped>\n    .dataframe tbody tr th:only-of-type {\n        vertical-align: middle;\n    }\n\n    .dataframe tbody tr th {\n        vertical-align: top;\n    }\n\n    .dataframe thead th {\n        text-align: right;\n    }\n</style>\n<table border=\"1\" class=\"dataframe\">\n  <thead>\n    <tr style=\"text-align: right;\">\n      <th></th>\n      <th>0</th>\n      <th>1</th>\n      <th>2</th>\n      <th>3</th>\n      <th>4</th>\n      <th>5</th>\n      <th>6</th>\n      <th>7</th>\n      <th>8</th>\n      <th>9</th>\n      <th>...</th>\n      <th>3942</th>\n      <th>3943</th>\n      <th>3944</th>\n      <th>3945</th>\n      <th>3946</th>\n      <th>3947</th>\n      <th>3948</th>\n      <th>3949</th>\n      <th>3950</th>\n      <th>3951</th>\n    </tr>\n  </thead>\n  <tbody>\n    <tr>\n      <th>0</th>\n      <td>2.976352</td>\n      <td>0.744767</td>\n      <td>-0.009963</td>\n      <td>-0.057408</td>\n      <td>0.022610</td>\n      <td>-0.195839</td>\n      <td>-0.138229</td>\n      <td>0.200984</td>\n      <td>-0.131726</td>\n      <td>0.076522</td>\n      <td>...</td>\n      <td>-0.031364</td>\n      <td>0.007606</td>\n      <td>0.081938</td>\n      <td>-0.043994</td>\n      <td>-0.166404</td>\n      <td>0.385526</td>\n      <td>-0.133773</td>\n      <td>-0.041047</td>\n      <td>-0.002533</td>\n      <td>0.230722</td>\n    </tr>\n    <tr>\n      <th>1</th>\n      <td>0.931130</td>\n      <td>0.389267</td>\n      <td>0.364006</td>\n      <td>0.052644</td>\n      <td>0.124922</td>\n      <td>0.607960</td>\n      <td>0.141177</td>\n      <td>0.007597</td>\n      <td>0.250530</td>\n      <td>1.153990</td>\n      <td>...</td>\n      <td>-0.054179</td>\n      <td>-0.005977</td>\n      <td>-0.011452</td>\n      <td>0.082114</td>\n      <td>-0.059308</td>\n      <td>0.091251</td>\n      <td>-0.210865</td>\n      <td>-0.108354</td>\n      <td>-0.021863</td>\n      <td>-0.228336</td>\n    </tr>\n    <tr>\n      <th>2</th>\n      <td>1.247751</td>\n      <td>0.213155</td>\n      <td>0.167924</td>\n      <td>0.011876</td>\n      <td>0.054110</td>\n      <td>0.084708</td>\n      <td>-0.087069</td>\n      <td>0.036980</td>\n      <td>0.039084</td>\n      <td>0.411934</td>\n      <td>...</td>\n      <td>-0.024923</td>\n      <td>-0.023607</td>\n      <td>0.026514</td>\n      <td>0.009862</td>\n      <td>-0.022911</td>\n      <td>0.403922</td>\n      <td>-0.117882</td>\n      <td>-0.074477</td>\n      <td>-0.034485</td>\n      <td>-0.286855</td>\n    </tr>\n    <tr>\n      <th>3</th>\n      <td>0.152505</td>\n      <td>-0.182852</td>\n      <td>-0.028998</td>\n      <td>0.047482</td>\n      <td>0.044121</td>\n      <td>0.276155</td>\n      <td>-0.025682</td>\n      <td>-0.005139</td>\n      <td>-0.037145</td>\n      <td>0.263491</td>\n      <td>...</td>\n      <td>-0.001420</td>\n      <td>0.008835</td>\n      <td>-0.002732</td>\n      <td>-0.025536</td>\n      <td>-0.063314</td>\n      <td>0.066459</td>\n      <td>0.087017</td>\n      <td>0.033660</td>\n      <td>0.016800</td>\n      <td>-0.176528</td>\n    </tr>\n    <tr>\n      <th>4</th>\n      <td>1.325901</td>\n      <td>0.024249</td>\n      <td>-0.243512</td>\n      <td>0.215841</td>\n      <td>-0.346452</td>\n      <td>1.241074</td>\n      <td>-0.313412</td>\n      <td>-0.055865</td>\n      <td>0.006133</td>\n      <td>0.320826</td>\n      <td>...</td>\n      <td>0.069419</td>\n      <td>0.005063</td>\n      <td>-0.026947</td>\n      <td>0.017156</td>\n      <td>0.027916</td>\n      <td>0.014633</td>\n      <td>0.497768</td>\n      <td>-0.014404</td>\n      <td>0.113194</td>\n      <td>0.120356</td>\n    </tr>\n    <tr>\n      <th>...</th>\n      <td>...</td>\n      <td>...</td>\n      <td>...</td>\n      <td>...</td>\n      <td>...</td>\n      <td>...</td>\n      <td>...</td>\n      <td>...</td>\n      <td>...</td>\n      <td>...</td>\n      <td>...</td>\n      <td>...</td>\n      <td>...</td>\n      <td>...</td>\n      <td>...</td>\n      <td>...</td>\n      <td>...</td>\n      <td>...</td>\n      <td>...</td>\n      <td>...</td>\n      <td>...</td>\n    </tr>\n    <tr>\n      <th>6035</th>\n      <td>0.000000</td>\n      <td>0.000000</td>\n      <td>0.000000</td>\n      <td>0.000000</td>\n      <td>0.000000</td>\n      <td>0.000000</td>\n      <td>0.000000</td>\n      <td>0.000000</td>\n      <td>0.000000</td>\n      <td>0.000000</td>\n      <td>...</td>\n      <td>0.000000</td>\n      <td>0.000000</td>\n      <td>0.000000</td>\n      <td>0.000000</td>\n      <td>0.000000</td>\n      <td>0.000000</td>\n      <td>0.000000</td>\n      <td>0.000000</td>\n      <td>0.000000</td>\n      <td>0.000000</td>\n    </tr>\n    <tr>\n      <th>6036</th>\n      <td>0.000000</td>\n      <td>0.000000</td>\n      <td>0.000000</td>\n      <td>0.000000</td>\n      <td>0.000000</td>\n      <td>0.000000</td>\n      <td>0.000000</td>\n      <td>0.000000</td>\n      <td>0.000000</td>\n      <td>0.000000</td>\n      <td>...</td>\n      <td>0.000000</td>\n      <td>0.000000</td>\n      <td>0.000000</td>\n      <td>0.000000</td>\n      <td>0.000000</td>\n      <td>0.000000</td>\n      <td>0.000000</td>\n      <td>0.000000</td>\n      <td>0.000000</td>\n      <td>0.000000</td>\n    </tr>\n    <tr>\n      <th>6037</th>\n      <td>0.000000</td>\n      <td>0.000000</td>\n      <td>0.000000</td>\n      <td>0.000000</td>\n      <td>0.000000</td>\n      <td>0.000000</td>\n      <td>0.000000</td>\n      <td>0.000000</td>\n      <td>0.000000</td>\n      <td>0.000000</td>\n      <td>...</td>\n      <td>0.000000</td>\n      <td>0.000000</td>\n      <td>0.000000</td>\n      <td>0.000000</td>\n      <td>0.000000</td>\n      <td>0.000000</td>\n      <td>0.000000</td>\n      <td>0.000000</td>\n      <td>0.000000</td>\n      <td>0.000000</td>\n    </tr>\n    <tr>\n      <th>6038</th>\n      <td>0.000000</td>\n      <td>0.000000</td>\n      <td>0.000000</td>\n      <td>0.000000</td>\n      <td>0.000000</td>\n      <td>0.000000</td>\n      <td>0.000000</td>\n      <td>0.000000</td>\n      <td>0.000000</td>\n      <td>0.000000</td>\n      <td>...</td>\n      <td>0.000000</td>\n      <td>0.000000</td>\n      <td>0.000000</td>\n      <td>0.000000</td>\n      <td>0.000000</td>\n      <td>0.000000</td>\n      <td>0.000000</td>\n      <td>0.000000</td>\n      <td>0.000000</td>\n      <td>0.000000</td>\n    </tr>\n    <tr>\n      <th>6039</th>\n      <td>0.000000</td>\n      <td>0.000000</td>\n      <td>0.000000</td>\n      <td>0.000000</td>\n      <td>0.000000</td>\n      <td>0.000000</td>\n      <td>0.000000</td>\n      <td>0.000000</td>\n      <td>0.000000</td>\n      <td>0.000000</td>\n      <td>...</td>\n      <td>0.000000</td>\n      <td>0.000000</td>\n      <td>0.000000</td>\n      <td>0.000000</td>\n      <td>0.000000</td>\n      <td>0.000000</td>\n      <td>0.000000</td>\n      <td>0.000000</td>\n      <td>0.000000</td>\n      <td>0.000000</td>\n    </tr>\n  </tbody>\n</table>\n<p>6040 rows × 3952 columns</p>\n</div>"
     },
     "metadata": {},
     "execution_count": 14
    }
   ],
   "source": [
    "pd.DataFrame(X_pred)"
   ]
  }
 ]
}