{
 "metadata": {
  "language_info": {
   "codemirror_mode": {
    "name": "ipython",
    "version": 3
   },
   "file_extension": ".py",
   "mimetype": "text/x-python",
   "name": "python",
   "nbconvert_exporter": "python",
   "pygments_lexer": "ipython3",
   "version": 3
  },
  "orig_nbformat": 2
 },
 "nbformat": 4,
 "nbformat_minor": 2,
 "cells": [
  {
   "cell_type": "code",
   "execution_count": null,
   "metadata": {},
   "outputs": [],
   "source": [
    "import matplotlib.pyplot as plt\n",
    "import numpy as np\n",
    "from mpl_toolkits.mplot3d import Axes3D\n",
    "\n",
    "# 求fxy的函数值\n",
    "def fxy(x, y):\n",
    "    return (x - 10) ** 2 + (y - 10) ** 2\n",
    "\n",
    "def gradient_descent():\n",
    "    times = 100 # 迭代次数\n",
    "    alpha = 0.05 # 步长\n",
    "    x = 20 # x的初始值\n",
    "    y = 20 # y的初始值\n",
    "\n",
    "    fig = Axes3D(plt.figure())      # 将figure转化为3D\n",
    "    xp = np.linspace(0, 20, 100)\n",
    "    yp = np.linspace(0, 20, 100)\n",
    "    xp, yp = np.meshgrid(xp, yp)    # 将数据转化为网格数据\n",
    "    zp = fxy(xp, yp)                \n",
    "    fig.plot_surface(xp, yp, zp, rstride=1, cstride=1, cmap=plt.get_cmap('rainbow'))\n",
    "\n",
    "    # 梯度下降算法\n",
    "    for i in range(times):\n",
    "        xb = x          # 用于画图\n",
    "        yb = y          # 用于画图\n",
    "        fb = fxy(x, y)  # 用于画图\n",
    "\n",
    "        x = x - alpha * 2 * (x - 10)\n",
    "        y = y - alpha * 2 * (y - 10)\n",
    "        f = fxy(x, y)\n",
    "        print(\"第%d次迭代：x=%f，y=%f，fxy=%f\" % (i + 1, x, y, f))\n",
    "\n",
    "        fig.plot([xb, x], [yb, y], [fb, f], 'ko', lw=2, ls='-')\n",
    "    plt.show()\n",
    "\n",
    "if __name__ == \"__main__\":\n",
    "    gradient_descent()"
   ]
  }
 ]
}